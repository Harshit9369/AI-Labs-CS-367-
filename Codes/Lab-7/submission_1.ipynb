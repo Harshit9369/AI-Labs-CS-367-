{
 "cells": [
  {
   "cell_type": "code",
   "execution_count": null,
   "metadata": {},
   "outputs": [],
   "source": [
    "import random\n",
    "\n",
    "class MENACE:\n",
    "    def _init_(self):\n",
    "        self.states = {}\n",
    "        self.history = []\n",
    "\n",
    "    def initialize_state(self, state):\n",
    "        if state not in self.states:\n",
    "            self.states[state] = [3 if s == '-' else 0 for s in state]\n",
    "\n",
    "    def choose_move(self, state):\n",
    "        self.initialize_state(state)\n",
    "        available_moves = self.states[state]\n",
    "        move_choices = [i for i, count in enumerate(available_moves) if count > 0]\n",
    "        move = random.choices(move_choices, weights=[available_moves[i] for i in move_choices])[0]\n",
    "        self.history.append((state, move))\n",
    "        return move\n",
    "\n",
    "    def update_beads(self, result):\n",
    "        adjustment = 1 if result == 'win' else -1 if result == 'loss' else 0\n",
    "        for state, move in self.history:\n",
    "            self.states[state][move] = max(1, self.states[state][move] + adjustment)\n",
    "        self.history = []\n",
    "\n",
    "    def play_game(self):\n",
    "        board = ['-' for _ in range(9)]\n",
    "        players = ['X', 'O']\n",
    "        current_player = 0\n",
    "        while '-' in board:\n",
    "            state = ''.join(board)\n",
    "            move = self.choose_move(state)\n",
    "            board[move] = players[current_player]\n",
    "            if self.check_winner(board, players[current_player]):\n",
    "                return 'win' if current_player == 0 else 'loss', board\n",
    "            current_player = 1 - current_player\n",
    "        return 'draw', board\n",
    "\n",
    "    def check_winner(self, board, player):\n",
    "        win_conditions = [(0, 1, 2), (3, 4, 5), (6, 7, 8), (0, 3, 6), (1, 4, 7), (2, 5, 8), (0, 4, 8), (2, 4, 6)]\n",
    "        return any(all(board[i] == player for i in combo) for combo in win_conditions)\n",
    "\n",
    "    def print_board(self, board):\n",
    "        for i in range(0, 9, 3):\n",
    "            print(board[i:i+3])\n",
    "\n",
    "menace = MENACE()\n",
    "for i in range(10):\n",
    "    result, final_board = menace.play_game()\n",
    "    menace.update_beads(result)\n",
    "    print(f\"Game {i + 1}: {result}\")\n",
    "    menace.print_board(final_board)\n",
    "    print(\"-\" * 10)"
   ]
  }
 ],
 "metadata": {
  "kernelspec": {
   "display_name": "base",
   "language": "python",
   "name": "python3"
  },
  "language_info": {
   "name": "python",
   "version": "3.12.2"
  }
 },
 "nbformat": 4,
 "nbformat_minor": 2
}
