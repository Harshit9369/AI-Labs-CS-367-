{
 "cells": [
  {
   "cell_type": "code",
   "execution_count": null,
   "metadata": {},
   "outputs": [],
   "source": [
    "import numpy as np\n",
    "\n",
    "gamma = 1\n",
    "reward = np.array([-0.1, -0.1, -0.1, 1])\n",
    "\n",
    "p_desired = 0.8\n",
    "p_other = 0.1\n",
    "\n",
    "P = {\n",
    "    \"up\": [0, 0, 2, 3],\n",
    "    \"down\": [1, 1, 3, 3],\n",
    "    \"left\": [0, 1, 0, 3],\n",
    "    \"right\": [2, 3, 2, 3]\n",
    "}\n",
    "\n",
    "pi = 1 / 4\n",
    "\n",
    "A = np.zeros((4, 4))\n",
    "C = np.zeros(4)\n",
    "\n",
    "for s in range(4):\n",
    "    for action in [\"up\", \"down\", \"left\", \"right\"]:\n",
    "        for next_s in range(4):\n",
    "            prob = 0\n",
    "            if next_s == P[action][s]:\n",
    "                prob = p_desired\n",
    "            elif next_s == P[\"left\"][s] or next_s == P[\"right\"][s]:\n",
    "                prob = p_other\n",
    "            A[s, next_s] -= pi * gamma * prob\n",
    "    A[s, s] += 1\n",
    "    C[s] = reward[s]\n",
    "\n",
    "V = np.linalg.inv(np.eye(4) - A).dot(C)\n",
    "\n",
    "print(f\"V(S1) = {V[0]}\")\n",
    "print(f\"V(S2) = {V[1]}\")\n",
    "print(f\"V(S3) = {V[2]}\")\n",
    "print(f\"V(S4) = {V[3]}\")"
   ]
  }
 ],
 "metadata": {
  "kernelspec": {
   "display_name": "base",
   "language": "python",
   "name": "python3"
  },
  "language_info": {
   "name": "python",
   "version": "3.12.2"
  }
 },
 "nbformat": 4,
 "nbformat_minor": 2
}
